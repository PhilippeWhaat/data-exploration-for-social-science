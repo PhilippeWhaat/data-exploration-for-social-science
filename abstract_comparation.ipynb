{
 "cells": [
  {
   "cell_type": "code",
   "execution_count": 25,
   "metadata": {},
   "outputs": [],
   "source": [
    "import pandas as pd\n",
    "\n",
    "# Import du df\n",
    "df = pd.read_excel('/Users/philippeprince/Documents/GitHub/data-exploration-for-social-science/3_sentiment_classified_WHOLE.xlsx')"
   ]
  },
  {
   "cell_type": "code",
   "execution_count": 26,
   "metadata": {},
   "outputs": [],
   "source": [
    "import pandas as pd\n",
    "import numpy as np\n",
    "import Levenshtein as lev\n",
    "\n",
    "# Étape 1: Créez une nouvelle colonne \"duplicate\" avec NaN\n",
    "df['duplicate'] = np.nan\n",
    "\n",
    "# Remplissez la colonne \"duplicate\" avec 0 pour chaque ligne où 'abstract' est NaN ou une chaîne vide\n",
    "df.loc[df['abstract'].isna() | (df['abstract'] == ''), 'duplicate'] = 0\n",
    "\n",
    "# Étape 2: Initialiser un compteur à 1\n",
    "counter = 1\n",
    "\n",
    "# Étapes 3 à 7: Parcourez chaque ligne de DataFrame\n",
    "for i in range(len(df)):\n",
    "    if pd.isna(df.loc[i, 'duplicate']):\n",
    "        # Étape 3: Prenez le premier résumé non vérifié\n",
    "        first_abstract = df.loc[i, 'abstract']\n",
    "        df.loc[i, 'duplicate'] = counter\n",
    "\n",
    "        # Étape 4: Calculez la distance de Levenshtein et attribuez les valeurs de compteur\n",
    "        for j in range(i + 1, len(df)):\n",
    "            if pd.isna(df.loc[j, 'duplicate']):\n",
    "                lev_distance = lev.distance(first_abstract, df.loc[j, 'abstract'])\n",
    "                max_len = max(len(first_abstract), len(df.loc[j, 'abstract']))\n",
    "                if max_len > 0 and lev_distance / max_len * 100 <= 20:  # 20% de différence au maximum\n",
    "                    df.loc[j, 'duplicate'] = counter\n",
    "\n",
    "        # Étape 6: Incrémenter le compteur de 1\n",
    "        counter += 1\n",
    "\n",
    "# Étape 5: Si la ligne n'est dupliquée avec aucune autre, indiquez '0' dans sa colonne \"duplicate\"\n",
    "df.loc[df.groupby('duplicate')['duplicate'].transform('count') == 1, 'duplicate'] = 0\n"
   ]
  },
  {
   "cell_type": "code",
   "execution_count": 32,
   "metadata": {},
   "outputs": [],
   "source": [
    "df.to_excel('/Users/philippeprince/Documents/GitHub/data-exploration-for-social-science/3_sentiment_classified_WHOLE_sorted.xlsx')"
   ]
  }
 ],
 "metadata": {
  "kernelspec": {
   "display_name": "myenv",
   "language": "python",
   "name": "python3"
  },
  "language_info": {
   "codemirror_mode": {
    "name": "ipython",
    "version": 3
   },
   "file_extension": ".py",
   "mimetype": "text/x-python",
   "name": "python",
   "nbconvert_exporter": "python",
   "pygments_lexer": "ipython3",
   "version": "3.11.3"
  },
  "orig_nbformat": 4
 },
 "nbformat": 4,
 "nbformat_minor": 2
}
