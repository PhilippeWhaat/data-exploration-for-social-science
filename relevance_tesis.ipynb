{
 "cells": [
  {
   "cell_type": "code",
   "execution_count": 29,
   "metadata": {},
   "outputs": [
    {
     "name": "stdout",
     "output_type": "stream",
     "text": [
      "                                             Paragraph\n",
      "0    El interés por redactar el presente proyecto d...\n",
      "1    Ahora bien, de conformidad con la premisa ante...\n",
      "2    No obstante, previo a desarrollarla, resulta r...\n",
      "3    Dicho de otro modo, en virtud de que el ser hu...\n",
      "4    En este orden de ideas, debemos tener en mente...\n",
      "..                                                 ...\n",
      "388  “Artículo 153-C. El adiestramiento tendrá por ...\n",
      "389  Adicionalmente, con relación a la velocidad co...\n",
      "390  “Artículo 7º.- En toda empresa o establecimien...\n",
      "391  Finalmente y a modo de reflexión para el lecto...\n",
      "392  “Algunas veces, las estrategias son más import...\n",
      "\n",
      "[393 rows x 1 columns]\n"
     ]
    }
   ],
   "source": [
    "import pandas as pd\n",
    "import re\n",
    "\n",
    "# Charger le fichier\n",
    "with open(\"tesis.txt\", \"r\") as file:\n",
    "    content = file.read()\n",
    "\n",
    "# Séparer les paragraphes par '\\n\\n'\n",
    "paragraphs = content.split('\\n\\n')\n",
    "\n",
    "# Initialiser une liste vide\n",
    "data = []\n",
    "\n",
    "# Boucle à travers chaque paragraphe pour faire le tri\n",
    "i = 0\n",
    "while i < len(paragraphs):\n",
    "    para = paragraphs[i]\n",
    "    \n",
    "    # Supprimer les paragraphes vides\n",
    "    if para.strip() == '':\n",
    "        i += 1\n",
    "        continue\n",
    "    # Si un paragraphe commence par “, il doit être contenu dans une seule et même ligne du dataset jusqu'à la fermeture des guillemets par ”\n",
    "    elif para.startswith('“'):\n",
    "        while '”' not in para:\n",
    "            i += 1\n",
    "            if i < len(paragraphs):\n",
    "                # Vérifier si le paragraphe suivant ne commence pas par un guillemet ouvrant\n",
    "                if not paragraphs[i].startswith('“'):\n",
    "                    para += ' ' + paragraphs[i]\n",
    "                else:\n",
    "                    break\n",
    "            else:\n",
    "                break\n",
    "    # Ignorer les paragraphes commençant par \"• \", \"❖ \" ou \"o \"\n",
    "    elif para.startswith(\"•\t\") or para.startswith(\"❖\t\") or para.startswith(\"o\t\"):\n",
    "        i += 1\n",
    "        continue\n",
    "\n",
    "    # Ajouter le paragraphe nettoyé à la liste\n",
    "    data.append([para])\n",
    "    i += 1\n",
    "\n",
    "# Convertir la liste en DataFrame\n",
    "df = pd.DataFrame(data, columns=['Paragraph'])\n",
    "\n",
    "# Boucle à travers chaque paragraphe pour supprimer une ou deux lettres suivies d'une tabulation\n",
    "for index, row in df.iterrows():\n",
    "    cleaned_para = re.sub(r'^.{1,2}\\t', '', row['Paragraph'])\n",
    "    df.at[index, 'Paragraph'] = cleaned_para\n",
    "\n",
    "# Afficher le DataFrame\n",
    "print(df)"
   ]
  },
  {
   "cell_type": "code",
   "execution_count": 30,
   "metadata": {},
   "outputs": [],
   "source": [
    "df.to_csv('tesis.csv')"
   ]
  },
  {
   "cell_type": "code",
   "execution_count": 32,
   "metadata": {},
   "outputs": [],
   "source": [
    "import os\n",
    "import openai\n",
    "import time\n",
    "from ast import literal_eval\n",
    "\n",
    "openai.organization = os.environ['OPENAI_ORG_KEY']\n",
    "openai.api_key = os.environ['OPENAI_API_KEY']"
   ]
  },
  {
   "cell_type": "code",
   "execution_count": 57,
   "metadata": {},
   "outputs": [],
   "source": [
    "def content_eval(content):\n",
    "    role = \"\"\"Soy GPT-derecho-si-no. Mi función es responder con una sola palabra a la pregunta \"¿Tiene este párrafo algo que ver con una tesis en derecho?\". Si tiene que ver con el derecho, respondo que sí; si tiene que ver con otra cosa que el derecho, respondo que no.\"\"\" \n",
    "    while True:\n",
    "        try:\n",
    "            completions = openai.ChatCompletion.create(\n",
    "                model=\"gpt-3.5-turbo\",\n",
    "                messages=[\n",
    "                { \"role\": \"assistant\", \"content\": role\n",
    "                },\n",
    "                { \"role\": \"user\", \"content\": content}\n",
    "                ],\n",
    "                max_tokens = 2,\n",
    "            )\n",
    "            return completions['choices'][0]['message']['content']\n",
    "        except openai.error.RateLimitError:  # handle the specific RateLimitError\n",
    "            print('API overload, waiting for 10 seconds...')\n",
    "            time.sleep(10)\n",
    "        except Exception as e:\n",
    "            # Handle any other exceptions that might occur\n",
    "            print(\"Error:\", str(e))\n",
    "            time.sleep(10)"
   ]
  },
  {
   "cell_type": "code",
   "execution_count": null,
   "metadata": {},
   "outputs": [],
   "source": [
    "from tqdm import tqdm\n",
    "\n",
    "# Appliquer la fonction à chaque ligne de votre DataFrame si la cellule de la nouvelle colonne est NaN\n",
    "for i in tqdm(range(df.shape[0])):\n",
    "    df['Content_Eval'] = df['Paragraph'].apply(content_eval)\n"
   ]
  },
  {
   "cell_type": "code",
   "execution_count": 60,
   "metadata": {},
   "outputs": [
    {
     "data": {
      "text/plain": [
       "'Sí'"
      ]
     },
     "execution_count": 60,
     "metadata": {},
     "output_type": "execute_result"
    }
   ],
   "source": [
    "content_eval(df['Paragraph'][30])"
   ]
  }
 ],
 "metadata": {
  "kernelspec": {
   "display_name": "myenv",
   "language": "python",
   "name": "python3"
  },
  "language_info": {
   "codemirror_mode": {
    "name": "ipython",
    "version": 3
   },
   "file_extension": ".py",
   "mimetype": "text/x-python",
   "name": "python",
   "nbconvert_exporter": "python",
   "pygments_lexer": "ipython3",
   "version": "3.11.3"
  },
  "orig_nbformat": 4
 },
 "nbformat": 4,
 "nbformat_minor": 2
}
