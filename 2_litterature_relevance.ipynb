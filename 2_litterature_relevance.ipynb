{
 "cells": [
  {
   "cell_type": "code",
   "execution_count": 8,
   "metadata": {},
   "outputs": [],
   "source": [
    "import tiktoken\n",
    "import os\n",
    "import pandas as pd\n",
    "import openai\n",
    "import time\n",
    "from ast import literal_eval"
   ]
  },
  {
   "cell_type": "code",
   "execution_count": 21,
   "metadata": {},
   "outputs": [],
   "source": [
    "openai.organization = os.environ['OPENAI_ORG_KEY']\n",
    "openai.api_key = os.environ['OPENAI_API_KEY']\n",
    "\n",
    "\n",
    "# Start from begginning\n",
    "#df = pd.read_excel(\"liste_fichiers_new.xlsx\")\n",
    "\n",
    "source = 'vLex'\n",
    "# Read the Excel source\n",
    "#df = pd.read_excel(f\"src/{source}/liste_fichiers{source}.xlsx\")\n",
    "\n",
    "# Start from last processed\n",
    "df = pd.read_csv(f\"eval_sentiment_{source}.csv\")\n",
    "df['feedback_abstract'] = df['feedback_abstract'].apply(literal_eval)"
   ]
  },
  {
   "cell_type": "code",
   "execution_count": 25,
   "metadata": {},
   "outputs": [],
   "source": [
    "def num_tokens_from_string(string: str) -> int:\n",
    "    \"\"\"Returns the number of tokens in a text string.\"\"\"\n",
    "    encoding = tiktoken.encoding_for_model(\"gpt-3.5-turbo\")\n",
    "    num_tokens = len(encoding.encode(string))\n",
    "    return num_tokens"
   ]
  },
  {
   "cell_type": "code",
   "execution_count": 10,
   "metadata": {},
   "outputs": [],
   "source": [
    "def content_eval(part, title, content):\n",
    "    # 'part' can be 'abstract', 'results' or 'conclusion'\n",
    "    \n",
    "        \n",
    "#     role = f\"\"\"Given the overarching research question - 'What is the current state of research on the challenges, limitations, and potential impact of using causal AI techniques for automatic legal language processing and its application in legal decision-making compared to non-causal AI models relying on correlations?' - and the more specific sub-questions, I evaluate the relevance of the following article based on its {part} and title. I consider if the article addresses the following points:\n",
    "\n",
    "#     1. The challenges in interpreting and understanding the meaning of legal language, and how these impact the ability of AI models to analyze and make decisions based on legal texts.\n",
    "#     2. The relationship between causal inference algorithms and the process of legal language understanding.\n",
    "#     3. Methods to overcome the lack of empirical context in the causal analysis of legal texts, and suggestions for collecting data on a sufficient set of variables to block all the backdoor paths between the intervention and the outcome.\n",
    "#     4. The challenges and limitations in conducting automatic analysis of legal corpora and whether it proposes a theoretical framework to evaluate the causal links in the models produced.\n",
    "#     5. The potential impact of using causal AI techniques in the field of automatic legal language processing and its application in legal decision-making compared to traditional AI models relying on correlations.\n",
    "\n",
    "# I provide a brief reasoning for my evaluation.\"\"\"\n",
    "\n",
    "    role = \"\"\"\n",
    "In light of our primary research query - 'What is the prevailing status of studies concerning the difficulties, constraints, and potential effects of applying causal AI methods to automatic legal language processing and their role in legal decision-making, in comparison to non-causal AI models that rely on correlations?' - and the associated, more detailed, sub-questions, I express my feelings about the relevance of the selected article based on its {part} and title. \n",
    "\n",
    "Rather than simply stating the relevance as \"positive\" or \"negative\", I describe how the article makes me feel in a more human way, as they would on social media like Twitter or Facebook. I express feelings of excitement, disappointment, surprise, interest, confusion, optimism, skepticism, and other emotions that arise while considering the relevance of the article. I try to weave these emotions throughout my response, rather than just stating them at the beginning.\n",
    "\n",
    "The evaluation hinges on whether the article addresses these specific aspects:\n",
    "     1. The challenges in interpreting and understanding the meaning of legal language, and how these impact the ability of AI models to analyze and make decisions based on legal texts.\n",
    "     2. The relationship between causal inference algorithms and the process of legal language understanding.\n",
    "     3. Methods to overcome the lack of empirical context in the causal analysis of legal texts, and suggestions for collecting data on a sufficient set of variables to block all the backdoor paths between the intervention and the outcome.\n",
    "     4. The challenges and limitations in conducting automatic analysis of legal corpora and whether it proposes a theoretical framework to evaluate the causal links in the models produced.\n",
    "     5. The potential impact of using causal AI techniques in the field of automatic legal language processing and its application in legal decision-making compared to traditional AI models relying on correlations.\n",
    "\n",
    "Both the polarity (positive/negative) and the intensity (strength) of emotion will be expressed in my language, with punctuation such as exclamation points to increase the intensity of sentiment, capitalization of words, emotional degree modifiers and and shifters.\n",
    "\"\"\" \n",
    "    prompt = f\"Title: \" + title + f\"\"\"\n",
    "\n",
    "{part.capitalize()}: \"\"\" + content \n",
    "    \n",
    "    answer = f\"Based on the title and {part}, \"\n",
    "\n",
    "    while True:\n",
    "        try:\n",
    "            completions = openai.ChatCompletion.create(\n",
    "                model=\"gpt-3.5-turbo\",\n",
    "                messages=[\n",
    "                { \"role\": \"assistant\", \"content\": role\n",
    "                },\n",
    "                { \"role\": \"user\", \"content\": prompt},\n",
    "                { \"role\": \"assistant\", \"content\": answer}\n",
    "                ],\n",
    "                #max_tokens=num_tokens_from_string(role + \" \" + prompt + \" \" + answer) + 200,\n",
    "                max_tokens = 200,\n",
    "            )\n",
    "            return completions['choices'][0]['message']['content']\n",
    "        except openai.error.RateLimitError:  # handle the specific RateLimitError\n",
    "            print('API overload, waiting for 10 seconds...')\n",
    "            time.sleep(10)\n",
    "        except Exception as e:\n",
    "            # Handle any other exceptions that might occur\n",
    "            print(\"Error:\", str(e))\n",
    "            time.sleep(10)"
   ]
  },
  {
   "cell_type": "code",
   "execution_count": 41,
   "metadata": {},
   "outputs": [],
   "source": [
    "parts = ['abstract']\n",
    "\n",
    "# Creating new columns with empty lists\n",
    "for part in parts:\n",
    "    df['feedback_' + part] = [[] for _ in range(len(df))]"
   ]
  },
  {
   "cell_type": "code",
   "execution_count": 22,
   "metadata": {},
   "outputs": [
    {
     "name": "stdout",
     "output_type": "stream",
     "text": [
      "50\n",
      "50\n",
      "50\n",
      "50\n",
      "50\n",
      "0\n",
      "0\n",
      "0\n"
     ]
    }
   ],
   "source": [
    "for i in df['feedback_abstract']:\n",
    "    print(len(i))"
   ]
  },
  {
   "cell_type": "code",
   "execution_count": 23,
   "metadata": {},
   "outputs": [
    {
     "data": {
      "text/html": [
       "<div>\n",
       "<style scoped>\n",
       "    .dataframe tbody tr th:only-of-type {\n",
       "        vertical-align: middle;\n",
       "    }\n",
       "\n",
       "    .dataframe tbody tr th {\n",
       "        vertical-align: top;\n",
       "    }\n",
       "\n",
       "    .dataframe thead th {\n",
       "        text-align: right;\n",
       "    }\n",
       "</style>\n",
       "<table border=\"1\" class=\"dataframe\">\n",
       "  <thead>\n",
       "    <tr style=\"text-align: right;\">\n",
       "      <th></th>\n",
       "      <th>Unnamed: 0</th>\n",
       "      <th>name</th>\n",
       "      <th>abstract</th>\n",
       "      <th>feedback_abstract</th>\n",
       "    </tr>\n",
       "  </thead>\n",
       "  <tbody>\n",
       "    <tr>\n",
       "      <th>0</th>\n",
       "      <td>0</td>\n",
       "      <td>Agentes artificiales, opacidad tecnológica y ...</td>\n",
       "      <td>ABSTRACT: The paper focuses on the criminal li...</td>\n",
       "      <td>[I feel that this article is highly relevant t...</td>\n",
       "    </tr>\n",
       "    <tr>\n",
       "      <th>1</th>\n",
       "      <td>1</td>\n",
       "      <td>Inteligencia artificial y ADR- acceso a la jus...</td>\n",
       "      <td>Abstract: Artificial intelligence and Alternat...</td>\n",
       "      <td>[I feel intrigued and interested about the pot...</td>\n",
       "    </tr>\n",
       "    <tr>\n",
       "      <th>2</th>\n",
       "      <td>2</td>\n",
       "      <td>Inteligencia artificial y Derecho civil- líne...</td>\n",
       "      <td>ABSTRACT: Let's be honest, robots scare us. Th...</td>\n",
       "      <td>[I feel that the article is relevant to the to...</td>\n",
       "    </tr>\n",
       "    <tr>\n",
       "      <th>3</th>\n",
       "      <td>3</td>\n",
       "      <td>La decisión judicial automatizada_ entre la c...</td>\n",
       "      <td>ABSTRACT: Recent technological advances, and e...</td>\n",
       "      <td>[I feel interested in this article's analysis ...</td>\n",
       "    </tr>\n",
       "    <tr>\n",
       "      <th>4</th>\n",
       "      <td>4</td>\n",
       "      <td>La decisión robótica_ algoritmos, interpreta...</td>\n",
       "      <td>AbSTRAcT. Predictability and predictive justic...</td>\n",
       "      <td>[I feel interested and intrigued by the articl...</td>\n",
       "    </tr>\n",
       "    <tr>\n",
       "      <th>5</th>\n",
       "      <td>5</td>\n",
       "      <td>La responsabilidad civil derivada de los daño...</td>\n",
       "      <td>NaN</td>\n",
       "      <td>[]</td>\n",
       "    </tr>\n",
       "    <tr>\n",
       "      <th>6</th>\n",
       "      <td>6</td>\n",
       "      <td>Resolución de 16 de diciembre de 2020, ... Or...</td>\n",
       "      <td>NaN</td>\n",
       "      <td>[]</td>\n",
       "    </tr>\n",
       "    <tr>\n",
       "      <th>7</th>\n",
       "      <td>7</td>\n",
       "      <td>Resoluciones. RESOLUCIÓN Nro. 007-2022-CNP. I...</td>\n",
       "      <td>NaN</td>\n",
       "      <td>[]</td>\n",
       "    </tr>\n",
       "  </tbody>\n",
       "</table>\n",
       "</div>"
      ],
      "text/plain": [
       "   Unnamed: 0                                               name   \n",
       "0           0  Agentes artificiales, opacidad tecnológica y ...  \\\n",
       "1           1  Inteligencia artificial y ADR- acceso a la jus...   \n",
       "2           2  Inteligencia artificial y Derecho civil- líne...   \n",
       "3           3  La decisión judicial automatizada_ entre la c...   \n",
       "4           4  La decisión robótica_ algoritmos, interpreta...   \n",
       "5           5  La responsabilidad civil derivada de los daño...   \n",
       "6           6  Resolución de 16 de diciembre de 2020, ... Or...   \n",
       "7           7  Resoluciones. RESOLUCIÓN Nro. 007-2022-CNP. I...   \n",
       "\n",
       "                                            abstract   \n",
       "0  ABSTRACT: The paper focuses on the criminal li...  \\\n",
       "1  Abstract: Artificial intelligence and Alternat...   \n",
       "2  ABSTRACT: Let's be honest, robots scare us. Th...   \n",
       "3  ABSTRACT: Recent technological advances, and e...   \n",
       "4  AbSTRAcT. Predictability and predictive justic...   \n",
       "5                                                NaN   \n",
       "6                                                NaN   \n",
       "7                                                NaN   \n",
       "\n",
       "                                   feedback_abstract  \n",
       "0  [I feel that this article is highly relevant t...  \n",
       "1  [I feel intrigued and interested about the pot...  \n",
       "2  [I feel that the article is relevant to the to...  \n",
       "3  [I feel interested in this article's analysis ...  \n",
       "4  [I feel interested and intrigued by the articl...  \n",
       "5                                                 []  \n",
       "6                                                 []  \n",
       "7                                                 []  "
      ]
     },
     "execution_count": 23,
     "metadata": {},
     "output_type": "execute_result"
    }
   ],
   "source": [
    "df"
   ]
  },
  {
   "cell_type": "code",
   "execution_count": 20,
   "metadata": {},
   "outputs": [
    {
     "name": "stdout",
     "output_type": "stream",
     "text": [
      "API overload, waiting for 10 seconds...\n",
      "API overload, waiting for 10 seconds...\n",
      "API overload, waiting for 10 seconds...\n",
      "API overload, waiting for 10 seconds...\n",
      "API overload, waiting for 10 seconds...\n",
      "API overload, waiting for 10 seconds...\n",
      "API overload, waiting for 10 seconds...\n",
      "API overload, waiting for 10 seconds...\n",
      "API overload, waiting for 10 seconds...\n"
     ]
    }
   ],
   "source": [
    "for part in parts:\n",
    "    # Apply function if rows is not empty string nor NaN\n",
    "    for idx, row in df[df[part].notna() & (df[part] != '')].iterrows():\n",
    "        title = row['name']\n",
    "        content = row[part]\n",
    "        \n",
    "        feedback_col_name = 'feedback_' + part\n",
    "        # start from the next index if the list is not empty\n",
    "        start_index = len(df.at[idx, feedback_col_name]) if df.at[idx, feedback_col_name] else 0\n",
    "\n",
    "        for i in range(start_index, 50):\n",
    "            feedback = content_eval(part, title, content)\n",
    "            # append feedback to the list\n",
    "            df.at[idx, feedback_col_name] = df.at[idx, feedback_col_name] + [feedback] if df.at[idx, feedback_col_name] else [feedback]\n",
    "        \n",
    "            # Save progress after each successful iteration\n",
    "            df.to_csv(f'eval_sentiment_{source}.csv')"
   ]
  },
  {
   "cell_type": "code",
   "execution_count": 168,
   "metadata": {},
   "outputs": [
    {
     "data": {
      "text/plain": [
       "5101880"
      ]
     },
     "execution_count": 168,
     "metadata": {},
     "output_type": "execute_result"
    }
   ],
   "source": [
    "tokens = 0\n",
    "for part in parts:\n",
    "    # Appliquer la fonction à chaque ligne non vide et non NaN\n",
    "    for idx, row in df[df[part].notna() & (df[part] != '')].iterrows():\n",
    "        title = row['name']\n",
    "        content = row[part]\n",
    "        \n",
    "        data = []\n",
    "        tokens_p = num_tokens_from_string(part + ' ' + title + ' ' + content) + 275 + 200\n",
    "        for i in range(0,49):\n",
    "            tokens+= tokens_p\n",
    "\n",
    "tokens"
   ]
  },
  {
   "cell_type": "code",
   "execution_count": 169,
   "metadata": {},
   "outputs": [
    {
     "data": {
      "text/plain": [
       "10.20376"
      ]
     },
     "execution_count": 169,
     "metadata": {},
     "output_type": "execute_result"
    }
   ],
   "source": [
    "0.002*tokens/1000\n"
   ]
  }
 ],
 "metadata": {
  "kernelspec": {
   "display_name": "myenv",
   "language": "python",
   "name": "python3"
  },
  "language_info": {
   "codemirror_mode": {
    "name": "ipython",
    "version": 3
   },
   "file_extension": ".py",
   "mimetype": "text/x-python",
   "name": "python",
   "nbconvert_exporter": "python",
   "pygments_lexer": "ipython3",
   "version": "3.11.3"
  },
  "orig_nbformat": 4
 },
 "nbformat": 4,
 "nbformat_minor": 2
}
